{
 "cells": [
  {
   "cell_type": "markdown",
   "metadata": {},
   "source": [
    "# CS 224D Assignment #2\n",
    "# Part [1]: Deep Networks: NER Window Model\n",
    "\n",
    "For this first part of the assignment, you'll build your first \"deep\" networks. On problem set 1, you computed the backpropagation gradient $\\frac{\\partial J}{\\partial w}$ for a two-layer network; in this problem set you'll implement a slightly more complex network to perform  named entity recognition (NER).\n",
    "\n",
    "Before beginning the programming section, you should complete parts (a) and (b) of the corresponding section of the handout."
   ]
  },
  {
   "cell_type": "code",
   "execution_count": 1,
   "metadata": {
    "collapsed": false
   },
   "outputs": [],
   "source": [
    "import sys, os\n",
    "from numpy import *\n",
    "from matplotlib.pyplot import *\n",
    "%matplotlib inline\n",
    "matplotlib.rcParams['savefig.dpi'] = 100\n",
    "\n",
    "%load_ext autoreload\n",
    "%autoreload 2"
   ]
  },
  {
   "cell_type": "markdown",
   "metadata": {},
   "source": [
    "## (c): Random Initialization Test\n",
    "Use the cell below to test your code."
   ]
  },
  {
   "cell_type": "code",
   "execution_count": 2,
   "metadata": {
    "collapsed": false
   },
   "outputs": [
    {
     "name": "stdout",
     "output_type": "stream",
     "text": [
      "[[ 0.46994114 -0.83008197  0.23148553  0.43094097 -0.00258593]\n",
      " [-0.47666619 -0.52297046  0.45125243 -0.57311684 -0.71301636]\n",
      " [ 0.32105262  0.78530031 -0.85918681  0.02111762  0.54147539]]\n"
     ]
    }
   ],
   "source": [
    "from misc import random_weight_matrix\n",
    "random.seed(10)\n",
    "print random_weight_matrix(3,5)"
   ]
  },
  {
   "cell_type": "markdown",
   "metadata": {},
   "source": [
    "## (d): Implementation\n",
    "\n",
    "We've provided starter code to load in the dataset and convert it to a list of \"windows\", consisting of indices into the matrix of word vectors. \n",
    "\n",
    "We pad each sentence with begin and end tokens `<s>` and `</s>`, which have their own word vector representations; additionally, we convert all words to lowercase, canonicalize digits (e.g. `1.12` becomes `DG.DGDG`), and replace unknown words with a special token `UUUNKKK`.\n",
    "\n",
    "You don't need to worry about the details of this, but you can inspect the `docs` variables or look at the raw data (in plaintext) in the `./data/` directory."
   ]
  },
  {
   "cell_type": "code",
   "execution_count": 3,
   "metadata": {
    "collapsed": true
   },
   "outputs": [],
   "source": [
    "import data_utils.utils as du\n",
    "import data_utils.ner as ner"
   ]
  },
  {
   "cell_type": "code",
   "execution_count": 4,
   "metadata": {
    "collapsed": true
   },
   "outputs": [],
   "source": [
    "# Load the starter word vectors\n",
    "wv, word_to_num, num_to_word = ner.load_wv('data/ner/vocab.txt',\n",
    "                                           'data/ner/wordVectors.txt')\n",
    "# wv is the word-vector matrix, each row is a word vector.\n",
    "# the shape of wv is (100232, 50), which means 100232 word vectors and each is 50-dimension.\n",
    "tagnames = [\"O\", \"LOC\", \"MISC\", \"ORG\", \"PER\"]\n",
    "num_to_tag = dict(enumerate(tagnames))\n",
    "tag_to_num = du.invert_dict(num_to_tag)"
   ]
  },
  {
   "cell_type": "code",
   "execution_count": 5,
   "metadata": {
    "collapsed": true
   },
   "outputs": [],
   "source": [
    "# Set window size\n",
    "windowsize = 3\n",
    "\n",
    "# Load the training set\n",
    "docs = du.load_dataset('data/ner/train') # There is 14042(len(docs)) sentences."
   ]
  },
  {
   "cell_type": "code",
   "execution_count": 6,
   "metadata": {
    "collapsed": false
   },
   "outputs": [],
   "source": [
    "# each row of X is a list of word indices\n",
    "# each entry of y is the word index to predict, there are 5 classes.\n",
    "X_train, y_train = du.docs_to_windows(docs, word_to_num, tag_to_num,\n",
    "                                      wsize=windowsize)\n",
    "\n",
    "# Load the dev set (for tuning hyperparameters)\n",
    "docs = du.load_dataset('data/ner/dev')\n",
    "X_dev, y_dev = du.docs_to_windows(docs, word_to_num, tag_to_num,\n",
    "                                  wsize=windowsize)\n",
    "\n",
    "# Load the test set (dummy labels only)\n",
    "docs = du.load_dataset('data/ner/test.masked')\n",
    "X_test, y_test = du.docs_to_windows(docs, word_to_num, tag_to_num,\n",
    "                                    wsize=windowsize)"
   ]
  },
  {
   "cell_type": "markdown",
   "metadata": {},
   "source": [
    "To avoid re-inventing the wheel, we provide a base class that handles a lot of the drudgery of managing parameters and running gradient descent. It's based on the classifier API used by [`scikit-learn`](http://scikit-learn.org/stable/), so if you're familiar with that library it should be easy to use. \n",
    "\n",
    "We'll be using this class for the rest of this assignment, so it helps to get acquainted with a simple example that should be familiar from Assignment 1. To keep this notebook uncluttered, we've put the code in the `softmax_example.py`; take a look at it there, then run the cell below."
   ]
  },
  {
   "cell_type": "code",
   "execution_count": 7,
   "metadata": {
    "collapsed": false
   },
   "outputs": [
    {
     "name": "stderr",
     "output_type": "stream",
     "text": [
      "grad_check: dJ/db error norm = 3.565e-10 [ok]\n",
      "    b dims: [5] = 5 elem\n",
      "grad_check: dJ/dW error norm = 2.164e-11 [ok]\n",
      "    W dims: [5, 100] = 500 elem\n",
      "grad_check: dJ/dL[5] error norm = 2.646e-11 [ok]\n",
      "    L[5] dims: [100] = 100 elem\n"
     ]
    }
   ],
   "source": [
    "from softmax_example import SoftmaxRegression\n",
    "sr = SoftmaxRegression(wv=zeros((10,100)), dims=(100,5))\n",
    "\n",
    "##\n",
    "# Automatic gradient checker!\n",
    "# this checks anything you add to self.grads or self.sgrads\n",
    "# using the method of Assignment 1\n",
    "sr.grad_check(x=5, y=4)"
   ]
  },
  {
   "cell_type": "code",
   "execution_count": 8,
   "metadata": {
    "collapsed": true
   },
   "outputs": [],
   "source": [
    "dims=[100, 5]\n",
    "param_dims = dict(W = (dims[1], dims[0]), # 5x100 matrix\n",
    "                          b = (dims[1]))"
   ]
  },
  {
   "cell_type": "markdown",
   "metadata": {},
   "source": [
    "In order to implement a model, you need to subclass `NNBase`, then implement the following methods:\n",
    "\n",
    "- `__init__()` (initialize parameters and hyperparameters)\n",
    "- `_acc_grads()` (compute and accumulate gradients)\n",
    "- `compute_loss()` (compute loss for a training example)\n",
    "- `predict()`, `predict_proba()`, or other prediction method (for evaluation)\n",
    "\n",
    "`NNBase` provides you with a few others that will be helpful:\n",
    "\n",
    "- `grad_check()` (run a gradient check - calls `_acc_grads` and `compute_loss`)\n",
    "- `train_sgd()` (run SGD training; more on this later)\n",
    "\n",
    "Your task is to implement the window model in `nerwindow.py`; a scaffold has been provided for you with instructions on what to fill in.\n",
    "\n",
    "When ready, you can test below:"
   ]
  },
  {
   "cell_type": "code",
   "execution_count": 41,
   "metadata": {
    "collapsed": false
   },
   "outputs": [],
   "source": [
    "a = empty((10,5))"
   ]
  },
  {
   "cell_type": "code",
   "execution_count": 43,
   "metadata": {
    "collapsed": false
   },
   "outputs": [],
   "source": [
    "a[0] = 0"
   ]
  },
  {
   "cell_type": "code",
   "execution_count": 44,
   "metadata": {
    "collapsed": false
   },
   "outputs": [
    {
     "data": {
      "text/plain": [
       "array([[ 0.        ,  0.        ,  0.        ,  0.        ,  0.        ],\n",
       "       [ 0.02666014,  0.00481545,  0.16557235,  0.22704343,  0.04107236],\n",
       "       [-0.05737776,  0.08789365, -0.07368174,  0.17448112, -0.0291805 ],\n",
       "       [ 0.04109639,  0.02853432, -0.03893288,  0.11408883, -0.05731082],\n",
       "       [-0.16304782, -0.04780182, -0.00839773,  0.05022159,  0.07100497],\n",
       "       [-0.11315066, -0.05138587,  0.21593538,  0.18259297, -0.15887129],\n",
       "       [ 0.05704504, -0.07510228, -0.04950885,  0.01140992,  0.13295227],\n",
       "       [-0.1582206 , -0.07399621,  0.14180174, -0.08885161,  0.06714699],\n",
       "       [-0.12901356,  0.12881674, -0.04664285,  0.13921216, -0.02563953],\n",
       "       [ 0.26197244, -0.08250012,  0.02918107, -0.07576818, -0.06776849]])"
      ]
     },
     "execution_count": 44,
     "metadata": {},
     "output_type": "execute_result"
    }
   ],
   "source": [
    "a"
   ]
  },
  {
   "cell_type": "code",
   "execution_count": 57,
   "metadata": {
    "collapsed": false,
    "scrolled": true
   },
   "outputs": [
    {
     "name": "stderr",
     "output_type": "stream",
     "text": [
      "grad_check: dJ/db2 error norm = 3.205e-10 [ok]\n",
      "    b2 dims: [5] = 5 elem\n",
      "grad_check: dJ/dU error norm = 2.837e-10 [ok]\n",
      "    U dims: [5, 100] = 500 elem\n",
      "grad_check: dJ/db1 error norm = 2.849e-09 [ok]\n",
      "    b1 dims: [100] = 100 elem\n",
      "grad_check: dJ/dW error norm = 1.337e-08 [ok]\n",
      "    W dims: [100, 150] = 15000 elem\n",
      "grad_check: dJ/dL[30] error norm = 3.335e-11 [ok]\n",
      "    L[30] dims: [50] = 50 elem\n",
      "grad_check: dJ/dL[6659] error norm = 4.373e-11 [ok]\n",
      "    L[6659] dims: [50] = 50 elem\n",
      "grad_check: dJ/dL[12637] error norm = 4.509e-11 [ok]\n",
      "    L[12637] dims: [50] = 50 elem\n"
     ]
    }
   ],
   "source": [
    "from nerwindow import WindowMLP\n",
    "clf = WindowMLP(wv, windowsize=windowsize, dims=[None, 100, 5],\n",
    "                reg=0.001, alpha=0.01)\n",
    "clf.grad_check(X_train[0], y_train[0]) # gradient check on single point"
   ]
  },
  {
   "cell_type": "markdown",
   "metadata": {},
   "source": [
    "Now we'll train your model on some data! You can implement your own SGD method, but we recommend that you just call `clf.train_sgd`. This takes the following arguments:\n",
    "\n",
    "- `X`, `y` : training data\n",
    "- `idxiter`: iterable (list or generator) that gives index (row of X) of training examples in the order they should be visited by SGD\n",
    "- `printevery`: int, prints progress after this many examples\n",
    "- `costevery`: int, computes mean loss after this many examples. This is a costly operation, so don't make this too frequent!\n",
    "\n",
    "The implementation we give you supports minibatch learning; if `idxiter` is a list-of-lists (or yields lists), then gradients will be computed for all indices in a minibatch before modifying the parameters (this is why we have you write `_acc_grad` instead of applying them directly!).\n",
    "\n",
    "Before training, you should generate a training schedule to pass as `idxiter`. If you know how to use Python generators, we recommend those; otherwise, just make a static list. Make the following in the cell below:\n",
    "\n",
    "- An \"epoch\" schedule that just iterates through the training set, in order, `nepoch` times.\n",
    "- A random schedule of `N` examples sampled with replacement from the training set.\n",
    "- A random schedule of `N/k` minibatches of size `k`, sampled with replacement from the training set."
   ]
  },
  {
   "cell_type": "code",
   "execution_count": 10,
   "metadata": {
    "collapsed": false
   },
   "outputs": [],
   "source": [
    "nepoch = 5\n",
    "N = nepoch * len(y_train)\n",
    "k = 5 # minibatch size\n",
    "random.seed(10) # do not change this!\n",
    "\n",
    "# Epoch schedule\n",
    "epoch_idxiter = nepoch * range(len(y_train))\n",
    "\n",
    "# Random schedule of N\n",
    "randomN_idxiter = random.randint(0, len(y_train), N)\n",
    "\n",
    "# Random minibatches\n",
    "randombatch_idxiter = random.randint(0, len(y_train), N).reshape(N/k, k)"
   ]
  },
  {
   "cell_type": "markdown",
   "metadata": {},
   "source": [
    "Now call `train_sgd` to train on `X_train`, `y_train`. To verify that things work, train on 100,000 examples or so to start (with any of the above schedules). This shouldn't take more than a couple minutes, and you should get a mean cross-entropy loss around 0.4."
   ]
  },
  {
   "cell_type": "code",
   "execution_count": 56,
   "metadata": {
    "collapsed": false
   },
   "outputs": [
    {
     "name": "stdout",
     "output_type": "stream",
     "text": [
      "Begin SGD...\n",
      "  Seen 0 in 0.00 s\n",
      "  [0]: mean loss 0.340659\n",
      "  Seen 10000 in 7.52 s\n",
      "  Seen 20000 in 9.34 s\n",
      "  [20000]: mean loss 0.333674\n",
      "  Seen 30000 in 16.61 s\n",
      "  Seen 40000 in 18.47 s\n",
      "  [40000]: mean loss 0.385317\n",
      "  Seen 50000 in 25.73 s\n",
      "  Seen 60000 in 27.80 s\n",
      "  [60000]: mean loss 0.34217\n",
      "  Seen 70000 in 35.08 s\n",
      "  Seen 80000 in 36.90 s\n",
      "  [80000]: mean loss 0.326269\n",
      "  Seen 90000 in 44.09 s\n",
      "  [100000]: mean loss 0.302032\n",
      "SGD complete: 100000 examples in 51.25 seconds.\n"
     ]
    },
    {
     "data": {
      "text/plain": [
       "[(0, 0.34065940354382318),\n",
       " (20000, 0.33367381243879507),\n",
       " (40000, 0.38531699531836139),\n",
       " (60000, 0.34217013209875102),\n",
       " (80000, 0.32626879865019154),\n",
       " (100000, 0.30203223119396355)]"
      ]
     },
     "execution_count": 56,
     "metadata": {},
     "output_type": "execute_result"
    }
   ],
   "source": [
    "# To train on no more than 100,000 examples, use max_example.\n",
    "clf.train_sgd(X=X_train, y=y_train, idxiter=xrange(100000), printevery=10000, costevery=20000)"
   ]
  },
  {
   "cell_type": "markdown",
   "metadata": {},
   "source": [
    "Now, if this works well, it's time for production! You have three tasks here:\n",
    "\n",
    "1. Train a good model\n",
    "2. Plot a learning curve (cost vs. # of iterations)\n",
    "3. Use your best model to predict the test set\n",
    "\n",
    "You should train on the `train` data and evaluate performance on the `dev` set. The `test` data we provided has only dummy labels (everything is `O`); we'll compare your predictions to the true labels at grading time. \n",
    "\n",
    "Scroll down to section (f) for the evaluation code.\n",
    "\n",
    "We don't expect you to spend too much time doing an exhaustive search here; the default parameters should work well, although you can certainly do better. Try to achieve an F1 score of at least 76% on the dev set, as reported by `eval_performance`.\n",
    "\n",
    "Feel free to create new cells and write new code here, including new functions (helpers and otherwise) in `nerwindow.py`. When you have a good model, follow the instructions below to make predictions on the test set.\n",
    "\n",
    "A strong model may require 10-20 passes (or equivalent number of random samples) through the training set and could take 20 minutes or more to train - but it's also possible to be much, much faster!\n",
    "\n",
    "Things you may want to tune:\n",
    "- `alpha` (including using an \"annealing\" schedule to decrease the learning rate over time)\n",
    "- training schedule and minibatch size\n",
    "- regularization strength\n",
    "- hidden layer dimension\n",
    "- width of context window"
   ]
  },
  {
   "cell_type": "code",
   "execution_count": 74,
   "metadata": {
    "collapsed": false,
    "scrolled": true
   },
   "outputs": [
    {
     "name": "stdout",
     "output_type": "stream",
     "text": [
      "Begin SGD...\n",
      "  Seen 0 in 0.00 s\n",
      "  [0]: mean loss 1.77988\n",
      "  Seen 100000 in 120.57 s\n",
      "  Seen 200000 in 241.60 s\n",
      "  [200000]: mean loss 0.0783189\n",
      "  [203621]: mean loss 0.0825818\n",
      "SGD complete: 203621 examples in 260.41 seconds.\n",
      "=== Performance (omitting 'O' class) ===\n",
      "Mean precision:  83.49%\n",
      "Mean recall:     77.74%\n",
      "Mean F1:         80.49%\n",
      "############# Models with reg_term = 1e-08 done. ##############\n",
      "Begin SGD...\n",
      "  Seen 0 in 0.00 s\n",
      "  [0]: mean loss 1.77988\n",
      "  Seen 100000 in 129.45 s\n",
      "  Seen 200000 in 249.29 s\n",
      "  [200000]: mean loss 0.0783263\n",
      "  [203621]: mean loss 0.0825884\n",
      "SGD complete: 203621 examples in 268.03 seconds.\n",
      "=== Performance (omitting 'O' class) ===\n",
      "Mean precision:  83.48%\n",
      "Mean recall:     77.73%\n",
      "Mean F1:         80.48%\n",
      "############# Models with reg_term = 1e-07 done. ##############\n",
      "Begin SGD...\n",
      "  Seen 0 in 0.00 s\n",
      "  [0]: mean loss 1.77988\n",
      "  Seen 100000 in 119.33 s\n",
      "  Seen 200000 in 233.02 s\n",
      "  [200000]: mean loss 0.0784161\n",
      "  [203621]: mean loss 0.0825699\n",
      "SGD complete: 203621 examples in 253.57 seconds.\n",
      "=== Performance (omitting 'O' class) ===\n",
      "Mean precision:  83.52%\n",
      "Mean recall:     77.69%\n",
      "Mean F1:         80.48%\n",
      "############# Models with reg_term = 1e-06 done. ##############\n"
     ]
    }
   ],
   "source": [
    "#### YOUR CODE HERE ####\n",
    "# Sandbox: build a good model by tuning hyperparameters\n",
    "k = 5\n",
    "randombatch_idxiter = random.randint(0, len(y_train), N).reshape(N/k, k)\n",
    "models_reg = []\n",
    "for reg in [ 10**i for i in range(-8,-5)]:\n",
    "    clf = WindowMLP(wv, windowsize=windowsize, dims=[None, 100, 5], reg=reg, alpha=0.01)\n",
    "    clf.train_sgd(X=X_train, y=y_train, idxiter=randombatch_idxiter, printevery=100000, costevery=200000)\n",
    "    models_reg.append(clf)\n",
    "    yp = clf.predict(X_dev)\n",
    "    eval_performance(y_dev, yp, tagnames) # performance: optimize this F1\n",
    "    print \"############# Models with reg_term = {} done. ##############\".format(reg)\n",
    "#### END YOUR CODE ####"
   ]
  },
  {
   "cell_type": "code",
   "execution_count": 76,
   "metadata": {
    "collapsed": false,
    "scrolled": true
   },
   "outputs": [
    {
     "name": "stdout",
     "output_type": "stream",
     "text": [
      "Begin SGD...\n",
      "  Seen 0 in 0.00 s\n",
      "  [0]: mean loss 1.77988\n",
      "  Seen 100000 in 102.69 s\n",
      "  Seen 200000 in 183.84 s\n",
      "  [200000]: mean loss 0.332983\n",
      "  [203621]: mean loss 0.332392\n",
      "SGD complete: 203621 examples in 200.50 seconds.\n",
      "=== Performance (omitting 'O' class) ===\n",
      "Mean precision:  66.99%\n",
      "Mean recall:     44.03%\n",
      "Mean F1:         52.40%\n",
      "############# Models with alpha = 0.0001 done. ##############\n",
      "Begin SGD...\n",
      "  Seen 0 in 0.00 s\n",
      "  [0]: mean loss 1.77988\n",
      "  Seen 100000 in 107.04 s\n",
      "  Seen 200000 in 204.00 s\n",
      "  [200000]: mean loss 0.221631\n",
      "  [203621]: mean loss 0.218734\n",
      "SGD complete: 203621 examples in 222.52 seconds.\n",
      "=== Performance (omitting 'O' class) ===\n",
      "Mean precision:  75.39%\n",
      "Mean recall:     63.42%\n",
      "Mean F1:         68.32%\n",
      "############# Models with alpha = 0.001 done. ##############\n",
      "Begin SGD...\n",
      "  Seen 0 in 0.00 s\n",
      "  [0]: mean loss 1.77988\n",
      "  Seen 100000 in 92.93 s\n",
      "  Seen 200000 in 180.07 s\n",
      "  [200000]: mean loss 0.0783189\n",
      "  [203621]: mean loss 0.0825818\n",
      "SGD complete: 203621 examples in 196.01 seconds.\n",
      "=== Performance (omitting 'O' class) ===\n",
      "Mean precision:  83.49%\n",
      "Mean recall:     77.74%\n",
      "Mean F1:         80.49%\n",
      "############# Models with alpha = 0.01 done. ##############\n",
      "Begin SGD...\n",
      "  Seen 0 in 0.00 s\n",
      "  [0]: mean loss 1.77988\n",
      "  Seen 100000 in 84.56 s\n",
      "  Seen 200000 in 162.82 s\n",
      "  [200000]: mean loss 2.11693\n",
      "  [203621]: mean loss 2.02788\n",
      "SGD complete: 203621 examples in 178.45 seconds.\n",
      "=== Performance (omitting 'O' class) ===\n",
      "Mean precision:  38.00%\n",
      "Mean recall:     25.89%\n",
      "Mean F1:         26.13%\n",
      "############# Models with alpha = 0.1 done. ##############\n",
      "Begin SGD...\n",
      "  Seen 0 in 0.00 s\n",
      "  [0]: mean loss 1.77988\n",
      "SGD Interrupted: saw 57010 examples in 55.01 seconds.\n",
      "=== Performance (omitting 'O' class) ===\n",
      "Mean precision:  17.21%\n",
      "Mean recall:     19.04%\n",
      "Mean F1:         17.49%\n",
      "############# Models with alpha = 1 done. ##############\n"
     ]
    }
   ],
   "source": [
    "#### YOUR CODE HERE ####\n",
    "# Sandbox: build a good model by tuning hyperparameters\n",
    "for alpha in [10**i for i in range(-4,1)]:\n",
    "    clf = WindowMLP(wv, windowsize=windowsize, dims=[None, 100, 5], reg=10**(-8), alpha=alpha)\n",
    "    clf.train_sgd(X=X_train, y=y_train, idxiter=randombatch_idxiter, printevery=100000, costevery=200000)\n",
    "    yp = clf.predict(X_dev)\n",
    "    eval_performance(y_dev, yp, tagnames) # performance: optimize this F1\n",
    "    print \"############# Models with alpha = {} done. ##############\".format(alpha)\n",
    "\n",
    "#### END YOUR CODE ####\n",
    "# alpha = 0.01 best"
   ]
  },
  {
   "cell_type": "markdown",
   "metadata": {},
   "source": [
    "## (e): Plot Learning Curves\n",
    "The `train_sgd` function returns a list of points `(counter, cost)` giving the mean loss after that number of SGD iterations.\n",
    "\n",
    "If the model is taking too long you can cut it off by going to *Kernel->Interrupt* in the IPython menu; `train_sgd` will return the training curve so-far, and you can restart without losing your training progress.\n",
    "\n",
    "Make two plots:\n",
    "\n",
    "- Learning curve using `reg = 0.001`, and comparing the effect of changing the learning rate: run with `alpha = 0.01` and `alpha = 0.1`. Use minibatches of size 5, and train for 10,000 minibatches with `costevery=200`. Be sure to scale up your counts (x-axis) to reflect the batch size. What happens if the model tries to learn too fast? Explain why this occurs, based on the relation of SGD to the true objective.\n",
    "\n",
    "- Learning curve for your best model (print the hyperparameters in the title), as trained using your best schedule. Set `costevery` so that you get at least 100 points to plot."
   ]
  },
  {
   "cell_type": "code",
   "execution_count": 99,
   "metadata": {
    "collapsed": false
   },
   "outputs": [
    {
     "name": "stdout",
     "output_type": "stream",
     "text": [
      "Begin SGD...\n",
      "  Seen 0 in 0.00 s\n",
      "SGD Interrupted: saw 0 examples in 1.88 seconds.\n",
      "Begin SGD...\n",
      "  Seen 0 in 0.00 s\n",
      "SGD Interrupted: saw 0 examples in 1.18 seconds.\n"
     ]
    },
    {
     "data": {
      "text/plain": [
       "[]"
      ]
     },
     "execution_count": 99,
     "metadata": {},
     "output_type": "execute_result"
    }
   ],
   "source": [
    "##\n",
    "# Plot your best learning curve here\n",
    "windowsize = 3\n",
    "k = 5\n",
    "randombatch_idxiter = random.randint(0, len(y_train), 50000).reshape(50000/k, k)\n",
    "\n",
    "clf1 = WindowMLP(wv, windowsize=windowsize, dims=[None, 100, 5], reg=10**(-3), alpha=0.01)\n",
    "clf1.train_sgd(X=X_train, y=y_train, idxiter=randombatch_idxiter, printevery=200, costevery=200)\n",
    "\n",
    "clf2 = WindowMLP(wv, windowsize=windowsize, dims=[None, 100, 5], reg=10**(-3), alpha=0.1)\n",
    "clf2.train_sgd(X=X_train, y=y_train, idxiter=randombatch_idxiter, printevery=200, costevery=200)"
   ]
  },
  {
   "cell_type": "code",
   "execution_count": 102,
   "metadata": {
    "collapsed": false,
    "scrolled": true
   },
   "outputs": [
    {
     "name": "stdout",
     "output_type": "stream",
     "text": [
      "Begin SGD...\n",
      "  Seen 0 in 0.00 s\n",
      "  [0]: mean loss 1.77988\n",
      "  [200]: mean loss 0.45885\n",
      "  [400]: mean loss 0.433913\n",
      "  [600]: mean loss 0.415147\n",
      "  [800]: mean loss 0.41583\n",
      "  [1000]: mean loss 0.39384\n",
      "  [1200]: mean loss 0.386884\n",
      "  [1400]: mean loss 0.387832\n",
      "  [1600]: mean loss 0.379977\n",
      "  [1800]: mean loss 0.383588\n",
      "  [2000]: mean loss 0.375746\n",
      "  [2200]: mean loss 0.366106\n",
      "  [2400]: mean loss 0.377221\n",
      "  [2600]: mean loss 0.362769\n",
      "  [2800]: mean loss 0.358312\n",
      "  [3000]: mean loss 0.354717\n",
      "  [3200]: mean loss 0.357433\n",
      "  [3400]: mean loss 0.353685\n",
      "  [3600]: mean loss 0.35128\n",
      "  [3800]: mean loss 0.347542\n",
      "  [4000]: mean loss 0.347684\n",
      "  [4200]: mean loss 0.346154\n",
      "  [4400]: mean loss 0.356961\n",
      "  [4600]: mean loss 0.343673\n",
      "  [4800]: mean loss 0.35846\n",
      "  [5000]: mean loss 0.342433\n",
      "  [5200]: mean loss 0.340072\n",
      "  [5400]: mean loss 0.335411\n",
      "  [5600]: mean loss 0.334756\n",
      "  [5800]: mean loss 0.329734\n",
      "  [6000]: mean loss 0.335292\n",
      "  [6200]: mean loss 0.325392\n",
      "  [6400]: mean loss 0.323655\n",
      "  [6600]: mean loss 0.322608\n",
      "  [6800]: mean loss 0.332274\n",
      "  [7000]: mean loss 0.332014\n",
      "  [7200]: mean loss 0.32427\n",
      "  [7400]: mean loss 0.32367\n",
      "  [7600]: mean loss 0.324902\n",
      "  [7800]: mean loss 0.322972\n",
      "  [8000]: mean loss 0.316383\n",
      "  [8200]: mean loss 0.322802\n",
      "  [8400]: mean loss 0.315052\n",
      "  [8600]: mean loss 0.328884\n",
      "  [8800]: mean loss 0.311506\n",
      "  [9000]: mean loss 0.322424\n",
      "  [9200]: mean loss 0.316684\n",
      "  [9400]: mean loss 0.309687\n",
      "  [9600]: mean loss 0.317603\n",
      "  [9800]: mean loss 0.314867\n",
      "  [10000]: mean loss 0.309489\n",
      "SGD complete: 10000 examples in 331.77 seconds.\n"
     ]
    }
   ],
   "source": [
    "randombatch_idxiter = random.randint(0, len(y_train), 50000).reshape(50000/k, k)\n",
    "\n",
    "clf = WindowMLP(wv, windowsize=3, dims=[None, 100, 5], reg=0.00001, alpha=0.01)\n",
    "traincurvebest = clf.train_sgd(X=X_train, y=y_train, idxiter=randombatch_idxiter, printevery=50000, costevery=200)"
   ]
  },
  {
   "cell_type": "code",
   "execution_count": 103,
   "metadata": {
    "collapsed": false,
    "scrolled": true
   },
   "outputs": [
    {
     "data": {
      "image/png": "[encoded data removed]",
      "text/plain": [
       "<matplotlib.figure.Figure at 0x1153b10d0>"
      ]
     },
     "metadata": {},
     "output_type": "display_data"
    }
   ],
   "source": [
    "counts, costs = zip(*traincurvebest)\n",
    "figure(figsize=(6,4))\n",
    "plot(5*array(counts), costs, color='b', marker='o', linestyle='-')\n",
    "title(r\"Learning Curve ($\\alpha$=%g, $\\lambda$=%g)\" % (clf.alpha, clf.lreg))\n",
    "xlabel(\"SGD Iterations\"); ylabel(r\"Average $J(\\theta)$\"); \n",
    "ylim(ymin=0, ymax=max(1.1*max(costs),3*min(costs)));\n",
    "ylim(0,0.5)\n",
    "\n",
    "# Don't change this filename!\n",
    "savefig(\"ner.learningcurve.best.png\")"
   ]
  },
  {
   "cell_type": "code",
   "execution_count": 12,
   "metadata": {
    "collapsed": false
   },
   "outputs": [],
   "source": [
    "##\n",
    "# Plot comparison of learning rates here\n",
    "# feel free to change the code below\n",
    "\n",
    "figure(figsize=(6,4))\n",
    "counts, costs = zip(*trainingcurve1)\n",
    "plot(5*array(counts), costs, color='b', marker='o', linestyle='-', label=r\"$\\alpha=0.01$\")\n",
    "counts, costs = zip(*trainingcurve2)\n",
    "plot(5*array(counts), costs, color='g', marker='o', linestyle='-', label=r\"$\\alpha=0.1$\")\n",
    "title(r\"Learning Curve ($\\lambda=0.01$, minibatch k=5)\")\n",
    "xlabel(\"SGD Iterations\"); ylabel(r\"Average $J(\\theta)$\"); \n",
    "ylim(ymin=0, ymax=max(1.1*max(costs),3*min(costs)));\n",
    "legend()\n",
    "\n",
    "# Don't change this filename\n",
    "savefig(\"ner.learningcurve.comparison.png\")"
   ]
  },
  {
   "cell_type": "markdown",
   "metadata": {},
   "source": [
    "## (f): Evaluating your model\n",
    "Evaluate the model on the dev set using your `predict` function, and compute performance metrics below!"
   ]
  },
  {
   "cell_type": "code",
   "execution_count": 70,
   "metadata": {
    "collapsed": true
   },
   "outputs": [],
   "source": [
    "# Predict labels on the dev set\n",
    "yp = models_reg[2].predict(X_dev)\n",
    "# Save predictions to a file, one per line\n",
    "ner.save_predictions(yp, \"dev.predicted\")"
   ]
  },
  {
   "cell_type": "code",
   "execution_count": 71,
   "metadata": {
    "collapsed": false,
    "scrolled": true
   },
   "outputs": [
    {
     "name": "stdout",
     "output_type": "stream",
     "text": [
      "             precision    recall  f1-score   support\n",
      "\n",
      "          O       0.92      0.98      0.95     42759\n",
      "        LOC       0.77      0.46      0.58      2094\n",
      "       MISC       0.66      0.33      0.44      1268\n",
      "        ORG       0.38      0.26      0.31      2092\n",
      "        PER       0.72      0.56      0.63      3149\n",
      "\n",
      "avg / total       0.87      0.89      0.87     51362\n",
      "\n",
      "=== Performance (omitting 'O' class) ===\n",
      "Mean precision:  63.98%\n",
      "Mean recall:     42.89%\n",
      "Mean F1:         51.07%\n"
     ]
    }
   ],
   "source": [
    "from nerwindow import full_report, eval_performance\n",
    "full_report(y_dev, yp, tagnames) # full report, helpful diagnostics\n",
    "eval_performance(y_dev, yp, tagnames) # performance: optimize this F1"
   ]
  },
  {
   "cell_type": "code",
   "execution_count": 15,
   "metadata": {
    "collapsed": false
   },
   "outputs": [],
   "source": [
    "# Save your predictions on the test set for us to evaluate\n",
    "# IMPORTANT: make sure X_test is exactly as loaded \n",
    "# from du.docs_to_windows, so that your predictions \n",
    "# line up with ours.\n",
    "yptest = clf.predict(X_test)\n",
    "ner.save_predictions(yptest, \"test.predicted\")"
   ]
  },
  {
   "cell_type": "markdown",
   "metadata": {},
   "source": [
    "## Part [1.1]: Probing neuron responses\n",
    "\n",
    "You might have seen some results from computer vision where the individual neurons learn to detect edges, shapes, or even [cat faces](http://googleblog.blogspot.com/2012/06/using-large-scale-brain-simulations-for.html). We're going to do the same for language.\n",
    "\n",
    "Recall that each \"neuron\" is essentially a logistic regression unit, with weights corresponding to rows of the corresponding matrix. So, if we have a hidden layer of dimension 100, then we can think of our matrix $W \\in \\mathbb{R}^{100 x 150}$ as representing 100 hidden neurons each with weights `W[i,:]` and bias `b1[i]`.\n",
    "\n",
    "### (a): Hidden Layer, Center Word\n",
    "For now, let's just look at the center word, and ignore the rest of the window. This corresponds to columns `W[:,50:100]`, although this could change if you altered the window size for your model. For each neuron, find the top 10 words that it responds to, as measured by the dot product between `W[i,50:100]` and `L[j]`. Use the provided code to print these words and their scores for 5 neurons of your choice. In your writeup, briefly describe what you notice here.\n",
    "\n",
    "The `num_to_word` dictionary, loaded earlier, may be helpful."
   ]
  },
  {
   "cell_type": "code",
   "execution_count": 114,
   "metadata": {
    "collapsed": false
   },
   "outputs": [
    {
     "name": "stdout",
     "output_type": "stream",
     "text": [
      "Neuron 5\n",
      "[0]: (1.406) most\n",
      "[1]: (1.315) folk\n",
      "[2]: (1.288) lyrics\n",
      "[3]: (1.243) ethnic\n",
      "[4]: (1.220) hundreds\n",
      "[5]: (1.206) settlements\n",
      "[6]: (1.185) interesting\n",
      "[7]: (1.184) dialect\n",
      "[8]: (1.171) scattered\n",
      "[9]: (1.160) sounds\n",
      "Neuron 16\n",
      "[0]: (1.394) represented\n",
      "[1]: (1.246) unite\n",
      "[2]: (1.237) whose\n",
      "[3]: (1.217) no\n",
      "[4]: (1.213) replace\n",
      "[5]: (1.209) distribute\n",
      "[6]: (1.197) spoken\n",
      "[7]: (1.194) refrain\n",
      "[8]: (1.178) collective\n",
      "[9]: (1.168) label\n",
      "Neuron 9\n",
      "[0]: (1.337) morning\n",
      "[1]: (1.247) loaves\n",
      "[2]: (1.231) afternoon\n",
      "[3]: (1.199) wept\n",
      "[4]: (1.196) bowl\n",
      "[5]: (1.190) hurry\n",
      "[6]: (1.164) bake\n",
      "[7]: (1.156) biscuit\n",
      "[8]: (1.145) smiled\n",
      "[9]: (1.138) dough\n"
     ]
    }
   ],
   "source": [
    "# Recommended function to print scores\n",
    "# scores = list of float\n",
    "# words = list of str\n",
    "def print_scores(scores, words):\n",
    "    for i in range(len(scores)):\n",
    "        print \"[%d]: (%.03f) %s\" % (i, scores[i], words[i])\n",
    "\n",
    "#### YOUR CODE HERE ####\n",
    "\n",
    "neurons = [5, 16, 9] # change this to your chosen neurons\n",
    "for i in neurons:\n",
    "    print \"Neuron %d\" % i\n",
    "    scores = clf.params.W[i, 50:100].dot(clf.sparams.L.T) + clf.params.b1[i]\n",
    "    topwords_idx = sorted(range(len(scores)), key=lambda i:scores[i], reverse=True)[:10]\n",
    "    topwords = [num_to_word[key] for key in topwords_idx]\n",
    "    topscores = [scores[key] for key in topwords_idx]\n",
    "\n",
    "    print_scores(topscores, topwords)\n",
    "    \n",
    "#### END YOUR CODE ####"
   ]
  },
  {
   "cell_type": "markdown",
   "metadata": {},
   "source": [
    "### (b): Model Output, Center Word\n",
    "Now, let's do the same for the output layer. Here we only have 5 neurons, one for each class. `O` isn't very interesting, but let's look at the other four.\n",
    "\n",
    "Here things get a little more complicated: since we take a softmax, we can't just look at the neurons separately. An input could cause several of these neurons to all have a strong response, so we really need to compute the softmax output and find the strongest inputs for each class.\n",
    "\n",
    "As before, let's consider only the center word (`W[:,50:100]`). For each class `ORG`, `PER`, `LOC`, and `MISC`, find the input words that give the highest probability $P(\\text{class}\\ |\\ \\text{word})$.\n",
    "\n",
    "You'll need to do the full feed-forward computation here - for efficiency, try to express this as a matrix operation on $L$. This is the same feed-forward computation as used to predict probabilities, just with $W$ replaced by `W[:,50:100]`.\n",
    "\n",
    "As with the hidden-layer neurons, print the top 10 words and their corresponding class probabilities for each class."
   ]
  },
  {
   "cell_type": "code",
   "execution_count": 126,
   "metadata": {
    "collapsed": false
   },
   "outputs": [],
   "source": [
    "from nn.math import softmax\n",
    "#### YOUR CODE HERE ####\n",
    "\n",
    "P = empty((clf.sparams.L.shape[0], clf.nclass))\n",
    "\n",
    "for i, row in enumerate(clf.sparams.L):\n",
    "\n",
    "    h = tanh(clf.params.W[:, 50:100].dot(row) + clf.params.b1)\n",
    "    p = softmax(clf.params.U.dot(h) + clf.params.b2)\n",
    "    P[i, :] = p"
   ]
  },
  {
   "cell_type": "code",
   "execution_count": 129,
   "metadata": {
    "collapsed": true
   },
   "outputs": [],
   "source": [
    "softmax_trans = P.T"
   ]
  },
  {
   "cell_type": "code",
   "execution_count": 130,
   "metadata": {
    "collapsed": true
   },
   "outputs": [],
   "source": [
    "topwords = [[] for i in range(softmax_trans.shape[0])]\n",
    "topscores = [[] for i in range(softmax_trans.shape[0])]"
   ]
  },
  {
   "cell_type": "code",
   "execution_count": 133,
   "metadata": {
    "collapsed": false
   },
   "outputs": [
    {
     "name": "stdout",
     "output_type": "stream",
     "text": [
      "Output neuron 1: LOC\n",
      "[0]: (0.983) china\n",
      "[1]: (0.976) japan\n",
      "[2]: (0.976) indonesia\n",
      "[3]: (0.975) korea\n",
      "[4]: (0.972) italy\n",
      "[5]: (0.968) thailand\n",
      "[6]: (0.967) taiwan\n",
      "[7]: (0.965) france\n",
      "[8]: (0.965) russia\n",
      "[9]: (0.962) germany\n",
      "\n",
      "Output neuron 2: MISC\n",
      "[0]: (0.938) danish\n",
      "[1]: (0.937) turkish\n",
      "[2]: (0.922) 18th\n",
      "[3]: (0.921) iranian\n",
      "[4]: (0.921) greek\n",
      "[5]: (0.917) italian\n",
      "[6]: (0.917) ottoman\n",
      "[7]: (0.916) ancient\n",
      "[8]: (0.911) egyptian\n",
      "[9]: (0.911) swedish\n",
      "\n",
      "Output neuron 3: ORG\n",
      "[0]: (0.890) department\n",
      "[1]: (0.889) commons\n",
      "[2]: (0.882) arts\n",
      "[3]: (0.870) campus\n",
      "[4]: (0.868) corps\n",
      "[5]: (0.840) theatre\n",
      "[6]: (0.839) college\n",
      "[7]: (0.838) steam\n",
      "[8]: (0.836) union\n",
      "[9]: (0.835) engineering\n",
      "\n",
      "Output neuron 4: PER\n",
      "[0]: (0.997) thompson\n",
      "[1]: (0.996) martin\n",
      "[2]: (0.995) dale\n",
      "[3]: (0.995) trembling\n",
      "[4]: (0.995) matthew\n",
      "[5]: (0.995) sarah\n",
      "[6]: (0.994) daniel\n",
      "[7]: (0.993) matt\n",
      "[8]: (0.993) pat\n",
      "[9]: (0.993) wept\n",
      "\n"
     ]
    }
   ],
   "source": [
    "for i, row in enumerate(softmax_trans):\n",
    "    topwords_idx = sorted(range(len(row)), key=lambda i:row[i], reverse=True)[:10]\n",
    "    topwords[i] = [num_to_word[idx] for idx in topwords_idx]\n",
    "    topscores[i] = [row[idx] for idx in topwords_idx]\n",
    "\n",
    "for i in range(1,5):\n",
    "    print \"Output neuron %d: %s\" % (i, num_to_tag[i])\n",
    "    print_scores(topscores[i], topwords[i])\n",
    "    print \"\"\n",
    "\n",
    "#### END YOUR CODE ####"
   ]
  },
  {
   "cell_type": "markdown",
   "metadata": {},
   "source": [
    "### (c): Model Output, Preceding Word\n",
    "Now for one final task: let's look at the preceding word. Repeat the above analysis for the output layer, but use the first part of $W$, i.e. `W[:,:50]`.\n",
    "\n",
    "Describe what you see, and include these results in your writeup."
   ]
  },
  {
   "cell_type": "code",
   "execution_count": 135,
   "metadata": {
    "collapsed": false,
    "scrolled": false
   },
   "outputs": [
    {
     "name": "stdout",
     "output_type": "stream",
     "text": [
      "Output neuron 1: LOC\n",
      "[0]: (0.821) southwest\n",
      "[1]: (0.714) surrounded\n",
      "[2]: (0.672) situated\n",
      "[3]: (0.665) southeast\n",
      "[4]: (0.629) located\n",
      "[5]: (0.603) governed\n",
      "[6]: (0.587) central\n",
      "[7]: (0.573) northeast\n",
      "[8]: (0.547) namely\n",
      "[9]: (0.528) inner\n",
      "\n",
      "Output neuron 2: MISC\n",
      "[0]: (0.356) </s>\n",
      "[1]: (0.329) advent\n",
      "[2]: (0.320) world\n",
      "[3]: (0.319) notable\n",
      "[4]: (0.309) instance\n",
      "[5]: (0.307) seasons\n",
      "[6]: (0.298) addition\n",
      "[7]: (0.290) putting\n",
      "[8]: (0.285) stages\n",
      "[9]: (0.285) comprises\n",
      "\n",
      "Output neuron 3: ORG\n",
      "[0]: (0.749) christ\n",
      "[1]: (0.745) memorial\n",
      "[2]: (0.708) athens\n",
      "[3]: (0.702) cross\n",
      "[4]: (0.693) jerusalem\n",
      "[5]: (0.685) open\n",
      "[6]: (0.681) st\n",
      "[7]: (0.642) avenue\n",
      "[8]: (0.631) ad\n",
      "[9]: (0.623) rugby\n",
      "\n",
      "Output neuron 4: PER\n",
      "[0]: (0.983) assistant\n",
      "[1]: (0.980) mate\n",
      "[2]: (0.978) egotistical\n",
      "[3]: (0.977) manager\n",
      "[4]: (0.976) naturalist\n",
      "[5]: (0.976) pianist\n",
      "[6]: (0.974) acumen\n",
      "[7]: (0.973) owl\n",
      "[8]: (0.973) adviser\n",
      "[9]: (0.970) aunt\n",
      "\n"
     ]
    }
   ],
   "source": [
    "#### YOUR CODE HERE ####\n",
    "P_prec = empty((clf.sparams.L.shape[0], clf.nclass))\n",
    "\n",
    "for i, row in enumerate(clf.sparams.L):\n",
    "\n",
    "    h = tanh(clf.params.W[:, :50].dot(row) + clf.params.b1)\n",
    "    p = softmax(clf.params.U.dot(h) + clf.params.b2)\n",
    "    P_prec[i, :] = p\n",
    "\n",
    "softmax_prec_trans = P_prec.T\n",
    "topwords_prec = [[] for i in range(softmax_prec_trans.shape[0])]\n",
    "topscores_prec = [[] for i in range(softmax_prec_trans.shape[0])]\n",
    "\n",
    "for i, row in enumerate(softmax_prec_trans):\n",
    "    topwords_prec_idx = sorted(range(len(row)), key=lambda i:row[i], reverse=True)[:10]\n",
    "    topwords_prec[i] = [num_to_word[idx] for idx in topwords_prec_idx]\n",
    "    topscores_prec[i] = [row[idx] for idx in topwords_prec_idx]\n",
    "\n",
    "for i in range(1,5):\n",
    "    print \"Output neuron %d: %s\" % (i, num_to_tag[i])\n",
    "    print_scores(topscores_prec[i], topwords_prec[i])\n",
    "    print \"\"\n",
    "\n",
    "#### END YOUR CODE ####"
   ]
  },
  {
   "cell_type": "code",
   "execution_count": null,
   "metadata": {
    "collapsed": true
   },
   "outputs": [],
   "source": []
  }
 ],
 "metadata": {
  "kernelspec": {
   "display_name": "Python 2",
   "language": "python",
   "name": "python2"
  },
  "language_info": {
   "codemirror_mode": {
    "name": "ipython",
    "version": 2
   },
   "file_extension": ".py",
   "mimetype": "text/x-python",
   "name": "python",
   "nbconvert_exporter": "python",
   "pygments_lexer": "ipython2",
   "version": "2.7.9"
  }
 },
 "nbformat": 4,
 "nbformat_minor": 0
}
